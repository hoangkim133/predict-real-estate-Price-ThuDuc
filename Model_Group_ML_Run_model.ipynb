{
 "cells": [
  {
   "cell_type": "code",
   "execution_count": 8,
   "metadata": {
    "tags": []
   },
   "outputs": [],
   "source": [
    "import numpy as np\n",
    "import matplotlib.pyplot as plt\n",
    "import pandas as pd\n",
    "import seaborn as sns\n",
    "from sklearn.model_selection import train_test_split\n",
    "from sklearn.preprocessing import StandardScaler\n",
    "from sklearn.svm import SVR\n",
    "from sklearn.metrics import mean_squared_error\n",
    "from sklearn.model_selection import RandomizedSearchCV"
   ]
  },
  {
   "cell_type": "code",
   "execution_count": 9,
   "metadata": {
    "collapsed": false,
    "jupyter": {
     "outputs_hidden": false
    },
    "pycharm": {
     "name": "#%%\n"
    }
   },
   "outputs": [],
   "source": [
    "data=pd.DataFrame(pd.read_csv('data5.csv'))\n",
    "df=data.copy()\n",
    "y = df['Price'].copy()\n",
    "X = df.drop(['Price'], axis=1)\n",
    "X_train, X_test, y_train, y_test = train_test_split(X, y, test_size=0.1, random_state=42)"
   ]
  },
  {
   "cell_type": "code",
   "execution_count": 10,
   "outputs": [
    {
     "data": {
      "text/plain": "      road-width  floors  bedroom  parking  dientich  Price  chieurong  \\\n0            7.0     3.0      4.0      1.0     110.0   6.20   5.000000   \n1            7.0     4.0      4.0      1.0      57.0   7.09   4.500000   \n2            6.0     3.0      4.0      1.0      67.0   4.50   6.600000   \n3           24.0     5.0      6.0      0.0     120.0   8.00   6.000000   \n4            5.0     3.0      4.0      1.0      80.0   7.20   5.000000   \n...          ...     ...      ...      ...       ...    ...        ...   \n5469         4.0     1.0      3.0      0.0      50.0   2.30   7.071068   \n5470         1.0     2.0      2.0      1.0      68.0   4.20   8.246211   \n5471         4.0     3.0      2.0      0.0      75.0   4.60   8.660254   \n5472         4.0     2.0      2.0      0.0      49.0   3.60   7.000000   \n5473         3.0     2.0      2.0      0.0      74.0   3.40   8.602325   \n\n       chieudai  Phường An Khánh  Phường An Phú  ...  Phường Phước Long B  \\\n0     22.000000              0.0            0.0  ...                  0.0   \n1     13.000000              0.0            0.0  ...                  0.0   \n2     10.100000              0.0            0.0  ...                  0.0   \n3     20.000000              0.0            1.0  ...                  0.0   \n4     16.000000              0.0            0.0  ...                  0.0   \n...         ...              ...            ...  ...                  ...   \n5469   7.071068              0.0            0.0  ...                  0.0   \n5470   8.246211              0.0            0.0  ...                  0.0   \n5471   8.660254              0.0            0.0  ...                  0.0   \n5472   7.000000              0.0            0.0  ...                  0.0   \n5473   8.602325              0.0            0.0  ...                  0.0   \n\n      Phường Tam Bình  Phường Tam Phú  Phường Thạnh Mỹ Lợi  Phường Thảo Điền  \\\n0                 0.0             0.0                  0.0               0.0   \n1                 0.0             0.0                  0.0               0.0   \n2                 0.0             0.0                  0.0               0.0   \n3                 0.0             0.0                  0.0               0.0   \n4                 0.0             0.0                  0.0               0.0   \n...               ...             ...                  ...               ...   \n5469              0.0             0.0                  0.0               0.0   \n5470              0.0             0.0                  0.0               0.0   \n5471              0.0             0.0                  0.0               0.0   \n5472              0.0             0.0                  0.0               0.0   \n5473              0.0             0.0                  0.0               0.0   \n\n      Phường Trường Thạnh  Phường Trường Thọ  Phường Tân Phú  \\\n0                     0.0                0.0             0.0   \n1                     0.0                0.0             0.0   \n2                     0.0                0.0             0.0   \n3                     0.0                0.0             0.0   \n4                     0.0                0.0             0.0   \n...                   ...                ...             ...   \n5469                  0.0                0.0             0.0   \n5470                  0.0                0.0             0.0   \n5471                  0.0                0.0             0.0   \n5472                  0.0                0.0             0.0   \n5473                  0.0                0.0             0.0   \n\n      Phường Tăng Nhơn Phú A  Phường Tăng Nhơn Phú B  \n0                        0.0                     0.0  \n1                        0.0                     0.0  \n2                        0.0                     0.0  \n3                        0.0                     0.0  \n4                        0.0                     0.0  \n...                      ...                     ...  \n5469                     0.0                     0.0  \n5470                     0.0                     0.0  \n5471                     0.0                     0.0  \n5472                     0.0                     0.0  \n5473                     0.0                     0.0  \n\n[5474 rows x 43 columns]",
      "text/html": "<div>\n<style scoped>\n    .dataframe tbody tr th:only-of-type {\n        vertical-align: middle;\n    }\n\n    .dataframe tbody tr th {\n        vertical-align: top;\n    }\n\n    .dataframe thead th {\n        text-align: right;\n    }\n</style>\n<table border=\"1\" class=\"dataframe\">\n  <thead>\n    <tr style=\"text-align: right;\">\n      <th></th>\n      <th>road-width</th>\n      <th>floors</th>\n      <th>bedroom</th>\n      <th>parking</th>\n      <th>dientich</th>\n      <th>Price</th>\n      <th>chieurong</th>\n      <th>chieudai</th>\n      <th>Phường An Khánh</th>\n      <th>Phường An Phú</th>\n      <th>...</th>\n      <th>Phường Phước Long B</th>\n      <th>Phường Tam Bình</th>\n      <th>Phường Tam Phú</th>\n      <th>Phường Thạnh Mỹ Lợi</th>\n      <th>Phường Thảo Điền</th>\n      <th>Phường Trường Thạnh</th>\n      <th>Phường Trường Thọ</th>\n      <th>Phường Tân Phú</th>\n      <th>Phường Tăng Nhơn Phú A</th>\n      <th>Phường Tăng Nhơn Phú B</th>\n    </tr>\n  </thead>\n  <tbody>\n    <tr>\n      <th>0</th>\n      <td>7.0</td>\n      <td>3.0</td>\n      <td>4.0</td>\n      <td>1.0</td>\n      <td>110.0</td>\n      <td>6.20</td>\n      <td>5.000000</td>\n      <td>22.000000</td>\n      <td>0.0</td>\n      <td>0.0</td>\n      <td>...</td>\n      <td>0.0</td>\n      <td>0.0</td>\n      <td>0.0</td>\n      <td>0.0</td>\n      <td>0.0</td>\n      <td>0.0</td>\n      <td>0.0</td>\n      <td>0.0</td>\n      <td>0.0</td>\n      <td>0.0</td>\n    </tr>\n    <tr>\n      <th>1</th>\n      <td>7.0</td>\n      <td>4.0</td>\n      <td>4.0</td>\n      <td>1.0</td>\n      <td>57.0</td>\n      <td>7.09</td>\n      <td>4.500000</td>\n      <td>13.000000</td>\n      <td>0.0</td>\n      <td>0.0</td>\n      <td>...</td>\n      <td>0.0</td>\n      <td>0.0</td>\n      <td>0.0</td>\n      <td>0.0</td>\n      <td>0.0</td>\n      <td>0.0</td>\n      <td>0.0</td>\n      <td>0.0</td>\n      <td>0.0</td>\n      <td>0.0</td>\n    </tr>\n    <tr>\n      <th>2</th>\n      <td>6.0</td>\n      <td>3.0</td>\n      <td>4.0</td>\n      <td>1.0</td>\n      <td>67.0</td>\n      <td>4.50</td>\n      <td>6.600000</td>\n      <td>10.100000</td>\n      <td>0.0</td>\n      <td>0.0</td>\n      <td>...</td>\n      <td>0.0</td>\n      <td>0.0</td>\n      <td>0.0</td>\n      <td>0.0</td>\n      <td>0.0</td>\n      <td>0.0</td>\n      <td>0.0</td>\n      <td>0.0</td>\n      <td>0.0</td>\n      <td>0.0</td>\n    </tr>\n    <tr>\n      <th>3</th>\n      <td>24.0</td>\n      <td>5.0</td>\n      <td>6.0</td>\n      <td>0.0</td>\n      <td>120.0</td>\n      <td>8.00</td>\n      <td>6.000000</td>\n      <td>20.000000</td>\n      <td>0.0</td>\n      <td>1.0</td>\n      <td>...</td>\n      <td>0.0</td>\n      <td>0.0</td>\n      <td>0.0</td>\n      <td>0.0</td>\n      <td>0.0</td>\n      <td>0.0</td>\n      <td>0.0</td>\n      <td>0.0</td>\n      <td>0.0</td>\n      <td>0.0</td>\n    </tr>\n    <tr>\n      <th>4</th>\n      <td>5.0</td>\n      <td>3.0</td>\n      <td>4.0</td>\n      <td>1.0</td>\n      <td>80.0</td>\n      <td>7.20</td>\n      <td>5.000000</td>\n      <td>16.000000</td>\n      <td>0.0</td>\n      <td>0.0</td>\n      <td>...</td>\n      <td>0.0</td>\n      <td>0.0</td>\n      <td>0.0</td>\n      <td>0.0</td>\n      <td>0.0</td>\n      <td>0.0</td>\n      <td>0.0</td>\n      <td>0.0</td>\n      <td>0.0</td>\n      <td>0.0</td>\n    </tr>\n    <tr>\n      <th>...</th>\n      <td>...</td>\n      <td>...</td>\n      <td>...</td>\n      <td>...</td>\n      <td>...</td>\n      <td>...</td>\n      <td>...</td>\n      <td>...</td>\n      <td>...</td>\n      <td>...</td>\n      <td>...</td>\n      <td>...</td>\n      <td>...</td>\n      <td>...</td>\n      <td>...</td>\n      <td>...</td>\n      <td>...</td>\n      <td>...</td>\n      <td>...</td>\n      <td>...</td>\n      <td>...</td>\n    </tr>\n    <tr>\n      <th>5469</th>\n      <td>4.0</td>\n      <td>1.0</td>\n      <td>3.0</td>\n      <td>0.0</td>\n      <td>50.0</td>\n      <td>2.30</td>\n      <td>7.071068</td>\n      <td>7.071068</td>\n      <td>0.0</td>\n      <td>0.0</td>\n      <td>...</td>\n      <td>0.0</td>\n      <td>0.0</td>\n      <td>0.0</td>\n      <td>0.0</td>\n      <td>0.0</td>\n      <td>0.0</td>\n      <td>0.0</td>\n      <td>0.0</td>\n      <td>0.0</td>\n      <td>0.0</td>\n    </tr>\n    <tr>\n      <th>5470</th>\n      <td>1.0</td>\n      <td>2.0</td>\n      <td>2.0</td>\n      <td>1.0</td>\n      <td>68.0</td>\n      <td>4.20</td>\n      <td>8.246211</td>\n      <td>8.246211</td>\n      <td>0.0</td>\n      <td>0.0</td>\n      <td>...</td>\n      <td>0.0</td>\n      <td>0.0</td>\n      <td>0.0</td>\n      <td>0.0</td>\n      <td>0.0</td>\n      <td>0.0</td>\n      <td>0.0</td>\n      <td>0.0</td>\n      <td>0.0</td>\n      <td>0.0</td>\n    </tr>\n    <tr>\n      <th>5471</th>\n      <td>4.0</td>\n      <td>3.0</td>\n      <td>2.0</td>\n      <td>0.0</td>\n      <td>75.0</td>\n      <td>4.60</td>\n      <td>8.660254</td>\n      <td>8.660254</td>\n      <td>0.0</td>\n      <td>0.0</td>\n      <td>...</td>\n      <td>0.0</td>\n      <td>0.0</td>\n      <td>0.0</td>\n      <td>0.0</td>\n      <td>0.0</td>\n      <td>0.0</td>\n      <td>0.0</td>\n      <td>0.0</td>\n      <td>0.0</td>\n      <td>0.0</td>\n    </tr>\n    <tr>\n      <th>5472</th>\n      <td>4.0</td>\n      <td>2.0</td>\n      <td>2.0</td>\n      <td>0.0</td>\n      <td>49.0</td>\n      <td>3.60</td>\n      <td>7.000000</td>\n      <td>7.000000</td>\n      <td>0.0</td>\n      <td>0.0</td>\n      <td>...</td>\n      <td>0.0</td>\n      <td>0.0</td>\n      <td>0.0</td>\n      <td>0.0</td>\n      <td>0.0</td>\n      <td>0.0</td>\n      <td>0.0</td>\n      <td>0.0</td>\n      <td>0.0</td>\n      <td>0.0</td>\n    </tr>\n    <tr>\n      <th>5473</th>\n      <td>3.0</td>\n      <td>2.0</td>\n      <td>2.0</td>\n      <td>0.0</td>\n      <td>74.0</td>\n      <td>3.40</td>\n      <td>8.602325</td>\n      <td>8.602325</td>\n      <td>0.0</td>\n      <td>0.0</td>\n      <td>...</td>\n      <td>0.0</td>\n      <td>0.0</td>\n      <td>0.0</td>\n      <td>0.0</td>\n      <td>0.0</td>\n      <td>0.0</td>\n      <td>0.0</td>\n      <td>0.0</td>\n      <td>0.0</td>\n      <td>0.0</td>\n    </tr>\n  </tbody>\n</table>\n<p>5474 rows × 43 columns</p>\n</div>"
     },
     "execution_count": 10,
     "metadata": {},
     "output_type": "execute_result"
    }
   ],
   "source": [
    "data"
   ],
   "metadata": {
    "collapsed": false,
    "pycharm": {
     "name": "#%%\n"
    }
   }
  },
  {
   "cell_type": "code",
   "execution_count": 11,
   "metadata": {
    "collapsed": false,
    "jupyter": {
     "outputs_hidden": false
    },
    "pycharm": {
     "name": "#%%\n"
    }
   },
   "outputs": [],
   "source": [
    "sc = StandardScaler()\n",
    "X_train = sc.fit_transform(X_train)\n",
    "X_test = sc.transform(X_test)"
   ]
  },
  {
   "cell_type": "code",
   "execution_count": 12,
   "metadata": {
    "collapsed": false,
    "jupyter": {
     "outputs_hidden": false
    },
    "pycharm": {
     "name": "#%%\n"
    }
   },
   "outputs": [
    {
     "name": "stdout",
     "output_type": "stream",
     "text": [
      "{'kernel': 'rbf', 'gamma': 'auto', 'degree': 6, 'coef0': 0.01, 'C': 3}\n"
     ]
    }
   ],
   "source": [
    "SVR_regress = SVR()\n",
    "\n",
    "param = {'kernel' : ('linear', 'poly', 'rbf', 'sigmoid'),'C' : list(range(3,10)),'degree' : list(range(3,8)),'coef0' : [0.01,10,0.5],'gamma' : ('auto','scale')},\n",
    "\n",
    "grids = RandomizedSearchCV(SVR_regress,param,cv=5)\n",
    "grids.fit(X_train,y_train)\n",
    "print(grids.best_params_)"
   ]
  },
  {
   "cell_type": "code",
   "execution_count": 13,
   "metadata": {
    "collapsed": false,
    "jupyter": {
     "outputs_hidden": false
    },
    "pycharm": {
     "name": "#%%\n"
    }
   },
   "outputs": [
    {
     "name": "stdout",
     "output_type": "stream",
     "text": [
      "7.941072687287919\n",
      "2.8179908955296358\n"
     ]
    }
   ],
   "source": [
    "y_pred = grids.predict(X_test)\n",
    "\n",
    "final_mse = mean_squared_error(y_test, y_pred)\n",
    "final_rmse = np.sqrt(final_mse)\n",
    "print(final_mse)\n",
    "print(final_rmse)"
   ]
  },
  {
   "cell_type": "code",
   "execution_count": 14,
   "metadata": {},
   "outputs": [
    {
     "data": {
      "text/plain": "      Price    Predict\n5443   5.70   4.900011\n4361   5.35   4.755304\n1084  20.00  15.645202\n896    6.00   6.354792\n3227  10.80   8.686740\n...     ...        ...\n3459   9.50   8.780766\n3625   6.10   5.315502\n254    1.30   9.451004\n1941  12.00  17.365358\n3881   5.80   6.230528\n\n[548 rows x 2 columns]",
      "text/html": "<div>\n<style scoped>\n    .dataframe tbody tr th:only-of-type {\n        vertical-align: middle;\n    }\n\n    .dataframe tbody tr th {\n        vertical-align: top;\n    }\n\n    .dataframe thead th {\n        text-align: right;\n    }\n</style>\n<table border=\"1\" class=\"dataframe\">\n  <thead>\n    <tr style=\"text-align: right;\">\n      <th></th>\n      <th>Price</th>\n      <th>Predict</th>\n    </tr>\n  </thead>\n  <tbody>\n    <tr>\n      <th>5443</th>\n      <td>5.70</td>\n      <td>4.900011</td>\n    </tr>\n    <tr>\n      <th>4361</th>\n      <td>5.35</td>\n      <td>4.755304</td>\n    </tr>\n    <tr>\n      <th>1084</th>\n      <td>20.00</td>\n      <td>15.645202</td>\n    </tr>\n    <tr>\n      <th>896</th>\n      <td>6.00</td>\n      <td>6.354792</td>\n    </tr>\n    <tr>\n      <th>3227</th>\n      <td>10.80</td>\n      <td>8.686740</td>\n    </tr>\n    <tr>\n      <th>...</th>\n      <td>...</td>\n      <td>...</td>\n    </tr>\n    <tr>\n      <th>3459</th>\n      <td>9.50</td>\n      <td>8.780766</td>\n    </tr>\n    <tr>\n      <th>3625</th>\n      <td>6.10</td>\n      <td>5.315502</td>\n    </tr>\n    <tr>\n      <th>254</th>\n      <td>1.30</td>\n      <td>9.451004</td>\n    </tr>\n    <tr>\n      <th>1941</th>\n      <td>12.00</td>\n      <td>17.365358</td>\n    </tr>\n    <tr>\n      <th>3881</th>\n      <td>5.80</td>\n      <td>6.230528</td>\n    </tr>\n  </tbody>\n</table>\n<p>548 rows × 2 columns</p>\n</div>"
     },
     "execution_count": 14,
     "metadata": {},
     "output_type": "execute_result"
    }
   ],
   "source": [
    "result = pd.DataFrame(y_test)\n",
    "result['Predict'] = y_pred\n",
    "result"
   ]
  }
 ],
 "metadata": {
  "kernelspec": {
   "display_name": "Python 3 (ipykernel)",
   "language": "python",
   "name": "python3"
  },
  "language_info": {
   "codemirror_mode": {
    "name": "ipython",
    "version": 3
   },
   "file_extension": ".py",
   "mimetype": "text/x-python",
   "name": "python",
   "nbconvert_exporter": "python",
   "pygments_lexer": "ipython3",
   "version": "3.7.4"
  }
 },
 "nbformat": 4,
 "nbformat_minor": 4
}